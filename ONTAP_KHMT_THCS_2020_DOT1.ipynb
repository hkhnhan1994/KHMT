{
 "cells": [
  {
   "cell_type": "markdown",
   "metadata": {},
   "source": [
    "Câu1: cho mảng A gồm N số nguyên\n",
    "    a. Viết hàm MaxBelow() trả về giá trị lớn nhất nhỏ hơn A[k]\n",
    "    b. Viết hàm MinAbove() trả về giá trị nhỏ nhất lớn hơn A[k]\n",
    "    c. Giả sử manmgr được sắp xếp theo thứ tự tăng hoặc giảm dần, hãy viết hàm Search() tìm kiếm giá trị X với độ phức tạp nhỏ hơn O(n), trả về vị trí tìm thấy X trong A hoặc -1 nếu không thấy X\n",
    "    d. Viết hàm LongestHill() trả về số phần tử trong mảng con dài nhất có giá trị tăng dần rồi giảm dần\n",
    "        Ví dụ, A={2,3,5,4,1,6,4} mảng con {2,3,5,4,1} là mảng con dài nhất có só phần tử tăng dần từ 2 đến 5 rồi giảm đến 1, giá trị trả về =5\n",
    "    e. Đề xuất giải thuật tính số mảng con có tổng bằng 1 số cho trước X, viết mã giả\n"
   ]
  },
  {
   "cell_type": "code",
   "execution_count": 24,
   "metadata": {},
   "outputs": [
    {
     "name": "stdout",
     "output_type": "stream",
     "text": [
      "4\n"
     ]
    }
   ],
   "source": [
    "import math\n",
    "def MaxBelow(array:list, k:int):\n",
    "    \"\"\"a.\"\"\"\n",
    "    # su dung c la bien dem lam trung gian\n",
    "    c=-99999999\n",
    "    if k>= len(array):\n",
    "        return -1\n",
    "    for id,val in enumerate(array):\n",
    "        # neu phan tu lon hon K\n",
    "        if array[id]<array[k] and array[id]>c:\n",
    "            c=array[id]\n",
    "    return c\n",
    "\n",
    "def MinAbove(array:list, k:int):\n",
    "    \"\"\"b.\"\"\"\n",
    "    c=99999999\n",
    "    if k>= len(array):\n",
    "        return -1\n",
    "    for id,val in enumerate(array):\n",
    "        if array[id]>array[k] and array[id]<c:\n",
    "             c=array[id]\n",
    "    return c\n",
    "\n",
    "new_array=MaxBelow([1,3,9,6,2,4,5,8],6)\n",
    "print(new_array)\n",
    "\n",
    "def Search(array:list, k=int, head=None,tail=None):\n",
    "    Correct=False\n",
    "    if tail==None:\n",
    "        head=0\n",
    "        tail=len(array)-1\n",
    "    if array[round(tail/2)]<k:\n",
    "        Search(array, k, head=round(tail/2)-1, tail=tail)\n",
    "    elif array[round(tail/2)]>k:\n",
    "        Search(array,k,head,tail=round(tail/2)+1)\n",
    "    else:\n",
    "        Correct=True\n",
    "    return Correct\n",
    "\n",
    "new_search=Search([1,2,3,4,5,6,7,8,9,10],2)\n",
    "print(new_search)"
   ]
  }
 ],
 "metadata": {
  "kernelspec": {
   "display_name": "Python 3.10.4 ('dev_env': venv)",
   "language": "python",
   "name": "python3"
  },
  "language_info": {
   "codemirror_mode": {
    "name": "ipython",
    "version": 3
   },
   "file_extension": ".py",
   "mimetype": "text/x-python",
   "name": "python",
   "nbconvert_exporter": "python",
   "pygments_lexer": "ipython3",
   "version": "3.10.4"
  },
  "orig_nbformat": 4,
  "vscode": {
   "interpreter": {
    "hash": "8da1af5a5edf13e8dd7ef220b821f73e7361083f755dd6a880122e3991288953"
   }
  }
 },
 "nbformat": 4,
 "nbformat_minor": 2
}
