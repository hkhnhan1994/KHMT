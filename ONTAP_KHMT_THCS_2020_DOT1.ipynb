{
 "cells": [
  {
   "cell_type": "markdown",
   "metadata": {},
   "source": [
    "Câu1: cho mảng A gồm N số nguyên\n",
    "    a. Viết hàm MaxBelow() trả về giá trị lớn nhất nhỏ hơn A[k]\n",
    "    b. Viết hàm MinAbove() trả về giá trị nhỏ nhất lớn hơn A[k]\n",
    "    c. Giả sử manmgr được sắp xếp theo thứ tự tăng hoặc giảm dần, hãy viết hàm Search() tìm kiếm giá trị X với độ phức tạp nhỏ hơn O(n), trả về vị trí tìm thấy X trong A hoặc -1 nếu không thấy X\n",
    "    d. Viết hàm LongestHill() trả về số phần tử trong mảng con dài nhất có giá trị tăng dần rồi giảm dần\n",
    "        Ví dụ, A={2,3,5,4,1,6,4} mảng con {2,3,5,4,1} là mảng con dài nhất có só phần tử tăng dần từ 2 đến 5 rồi giảm đến 1, giá trị trả về =5\n",
    "    e. Đề xuất giải thuật tính số mảng con có tổng bằng 1 số cho trước X, viết mã giả\n"
   ]
  },
  {
   "cell_type": "code",
   "execution_count": 21,
   "metadata": {},
   "outputs": [
    {
     "name": "stdout",
     "output_type": "stream",
     "text": [
      "4\n",
      "12\n"
     ]
    }
   ],
   "source": [
    "import math\n",
    "def MaxBelow(array:list, k:int):\n",
    "    \"\"\"a.\"\"\"\n",
    "    # su dung c la bien dem lam trung gian\n",
    "    c=-99999999\n",
    "    if k>= len(array):\n",
    "        return -1\n",
    "    for id,val in enumerate(array):\n",
    "        # neu phan tu lon hon K\n",
    "        if array[id]<array[k] and array[id]>c:\n",
    "            c=array[id]\n",
    "    return c\n",
    "\n",
    "def MinAbove(array:list, k:int):\n",
    "    \"\"\"b.\"\"\"\n",
    "    c=99999999\n",
    "    if k>= len(array):\n",
    "        return -1\n",
    "    for id,val in enumerate(array):\n",
    "        if array[id]>array[k] and array[id]<c:\n",
    "             c=array[id]\n",
    "    return c\n",
    "\n",
    "new_array=MaxBelow([1,3,9,6,2,4,5,8],6)\n",
    "print(new_array)\n",
    "\n",
    "def Search(array:list, k=int):\n",
    "    \"\"\"c.\"\"\"\n",
    "    tail=len(array)-1\n",
    "    head=0\n",
    "    while(tail>=head):\n",
    "        if array[round((tail+head)/2+.3)]>k:# +.3 de lam tron len tu 2.5 => 3\n",
    "            \"\"\" Tìm trái\"\"\"\n",
    "            tail=round((tail+head)/2) # tail se lay gia tri lam tron  vi du 0.5=>0\n",
    "        elif array[round((tail+head)/2+.3)]<k:\n",
    "            \"\"\"Tìm phải\"\"\"\n",
    "            head=round((tail+head)/2+.3) # head se lay gia tri lam tron vi du 0.5=>1\n",
    "        else: \n",
    "            return round((tail+head)/2)\n",
    "    return -1\n",
    "    \n",
    "\n",
    "new_search=Search([1,2,3,4,5,6,7,8,9,10,21,33,55,99,123,222,319,531],55)\n",
    "print(new_search)"
   ]
  }
 ],
 "metadata": {
  "kernelspec": {
   "display_name": "Python 3.9.13 ('dev_env': venv)",
   "language": "python",
   "name": "python3"
  },
  "language_info": {
   "codemirror_mode": {
    "name": "ipython",
    "version": 3
   },
   "file_extension": ".py",
   "mimetype": "text/x-python",
   "name": "python",
   "nbconvert_exporter": "python",
   "pygments_lexer": "ipython3",
   "version": "3.9.13"
  },
  "orig_nbformat": 4,
  "vscode": {
   "interpreter": {
    "hash": "deaea6af7912c34c1b684dec674de0c76750168016ab145b5e18463b9074328c"
   }
  }
 },
 "nbformat": 4,
 "nbformat_minor": 2
}
