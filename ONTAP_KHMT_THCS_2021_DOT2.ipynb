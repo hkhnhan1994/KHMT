{
 "cells": [
  {
   "cell_type": "markdown",
   "metadata": {},
   "source": [
    "### NĂM 2021 – ĐỢT 2\n",
    "Câu 1 (3.5 điểm)\n",
    "\n",
    "a) (0.5 điểm) Đề xuất cấu trúc dữ liệu hàng đợi sử dụng danh sách liên kết (dùng ngôn ngữ lập\n",
    "trình C/C++, Java, v.v…).\n",
    "\n",
    "b) (2 điểm) Viết hai hàm bao gồm thêm mới (enqueue) và lấy phần tử (dequeue) ra khỏi hàng\n",
    "đợi.\n",
    "\n",
    "c) (0.5 điểm) Hàng đợi ưu tiên là hàng đợi mà trong đó phần tử được lấy ra có độ ưu tiên cao\n",
    "nhất. Nếu các phần tử có cùng độ ưu tiên cao nhất thì áp dụng theo quy tắc hàng đợi. Hãy đề\n",
    "xuất giải thuật (không cần viết mã nguồn) thêm mới và lấy phần tử ra khỏi hàng đợi ưu tiên.\n",
    "\n",
    "d) (0.5 điểm) Chỉ ra độ phức tạp của giải thuật trong câu c). Nếu độ phức tạp của giải thuật là\n",
    "O(N), hãy đề xuất giải thuật có độ phức tạp nhỏ hơn O(N)."
   ]
  },
  {
   "cell_type": "code",
   "execution_count": 24,
   "metadata": {},
   "outputs": [
    {
     "name": "stdout",
     "output_type": "stream",
     "text": [
      "2\n",
      "3\n",
      "4\n",
      "5\n",
      "6\n"
     ]
    }
   ],
   "source": [
    "\n",
    "class node:\n",
    "    def __init__(self,val:int=None):\n",
    "        \"\"\"Cau a:\"\"\"\n",
    "        self.val=val\n",
    "        self.next=None\n",
    "class Linkedlist:\n",
    "    def __init__(self):\n",
    "        \"\"\"Cau a:\"\"\"\n",
    "        self.head=None\n",
    "        self.tail=None\n",
    "    def enqueue(self,val):\n",
    "        \"\"\"Cau b:\"\"\"\n",
    "        # create a new node\n",
    "        new_node=node(val)\n",
    "        # if linklist is empty\n",
    "        if self.tail is None:\n",
    "            self.head=self.tail=new_node\n",
    "            return\n",
    "        else:\n",
    "        # add a new node to tail\n",
    "            self.tail.next=new_node\n",
    "            self.tail=new_node\n",
    "            \n",
    "    def dequeue(self):\n",
    "        \"\"\"Cau b:\"\"\"\n",
    "        while self.head is not None:\n",
    "            print(self.head.val)\n",
    "            self.head=self.head.next\n",
    "        \n",
    "        \n",
    "\n",
    "new_list=Linkedlist()\n",
    "new_list.enqueue(2)\n",
    "new_list.enqueue(3)\n",
    "new_list.enqueue(4)\n",
    "new_list.enqueue(5)\n",
    "new_list.enqueue(6)\n",
    "new_list.dequeue()\n"
   ]
  },
  {
   "cell_type": "markdown",
   "metadata": {},
   "source": [
    "c: \n",
    "    Adding the priority property into class node\n",
    "    each priority is a disctinct linkedlist\n",
    "    when scanning:\n",
    "        get the highest priority linkedlist go first by adding all of linkedlists into a combined linkedlist\n",
    "    eg:\n",
    "        linkedlist_1 = linkedlist()\n",
    "        linkedlist_1.enqueue(priority=1, val=1)\n",
    "        linkedlist_1.enqueue(priority=1, val=2)\n",
    "        linkedlist_1.enqueue(priority=2, val=3)\n",
    "        linkedlist_1.enqueue(priority=2, val=4)\n",
    "\n",
    "        combined_linkedlist= linkedlist()\n",
    "        combined_linkedlist.enqueue(linkedlist_1)\n",
    "        combined_linkedlist.enqueue(linkedlist_2)\n"
   ]
  },
  {
   "cell_type": "markdown",
   "metadata": {},
   "source": [
    "d: according the part c, we figure out the strategy is scanning elements of a linklist. so the big O is O(N)"
   ]
  },
  {
   "cell_type": "markdown",
   "metadata": {},
   "source": [
    "Câu 2 (4.5 điểm)\n",
    "a) (0.5 điểm) Định nghĩa cấu trúc dữ liệu cho cây nhị phân tìm kiếm, cấu trúc này cần có một\n",
    "biến kiểu int cho khóa.\n",
    "b) (1 điểm) Viết mã nguồn tìm kiếm một phần tử có khóa K mà không dùng đệ quy.\n",
    "c) (1 điểm) Viết mã nguồn in tất cả các phần tử lá (nốt lá) theo thứ tự giảm dần.\n",
    "d) (1 điểm) Viết mã nguồn kiểm tra một cây nhị phân có phải là cây nhị phân tìm kiếm hay\n",
    "không.\n",
    "e) (1 điểm) Phân tích độ phức tạp của giải thuật tìm kiếm một phần tử có khóa K trong cây nhị\n",
    "phân tìm kiếm (hãy nêu trường hợp xấu nhất và tốt nhất).\n",
    "    độ phức tạp của cây nhị phân có độ phức tạp On(log n)\n",
    "    vì mỗi lần tìm kiếm số lượt sẽ bằng nửa của lượt trước đó\n",
    "    trường hợp xấu nhất: số cần tìm nằm ở đầu và cuối của cây\n",
    "    trường hợp tốt nhất, khóa K là node root của cây"
   ]
  },
  {
   "cell_type": "code",
   "execution_count": 25,
   "metadata": {},
   "outputs": [
    {
     "name": "stdout",
     "output_type": "stream",
     "text": [
      "20\n",
      "15\n",
      "10\n"
     ]
    },
    {
     "data": {
      "text/plain": [
       "True"
      ]
     },
     "execution_count": 25,
     "metadata": {},
     "output_type": "execute_result"
    }
   ],
   "source": [
    "import sys\n",
    "class node:\n",
    "    def __init__(self,val:int=None):\n",
    "        \"\"\"Cau a.\"\"\"\n",
    "        self.val=val\n",
    "        self.left=None\n",
    "        self.right=None\n",
    "\n",
    "class tree:\n",
    "    def __init__(self):\n",
    "        \"\"\"Cau a.\"\"\"\n",
    "        self.root=None\n",
    "    def add(self,val:int,cur=None):\n",
    "        new_node=node(val)\n",
    "        if self.root==None:\n",
    "            self.root=new_node\n",
    "            return\n",
    "        else:\n",
    "            if cur==None:\n",
    "                cur=self.root\n",
    "            if new_node.val>cur.val:\n",
    "                if cur.right==None:\n",
    "                    cur.right=new_node\n",
    "                    return\n",
    "                else:\n",
    "                    cur=cur.right\n",
    "                    self.add(val,cur)\n",
    "            elif new_node.val<cur.val:\n",
    "                if cur.left==None:\n",
    "                    cur.left=new_node\n",
    "                    return\n",
    "                else:\n",
    "                    cur=cur.left\n",
    "                    self.add(val,cur)\n",
    "            else: return\n",
    "    def print_Desc_recursion(self,cur=None):\n",
    "        \"\"\"using recursion\"\"\"\n",
    "        if cur==None:\n",
    "            cur=self.root\n",
    "        if cur.right is not None:\n",
    "            cur=cur.right\n",
    "            self.print_Desc_recursion(cur)\n",
    "        elif cur.left is None:\n",
    "            print(cur.val)\n",
    "    def print_Desc_unrecursion(self):\n",
    "        \"\"\"Cau b\"\"\"\n",
    "        temp_node=self.root\n",
    "        while temp_node!=None:\n",
    "            if temp_node.right is not None:\n",
    "                temp_node=temp_node.right\n",
    "            else: \n",
    "                print(temp_node.val)\n",
    "                return\n",
    "    def print_leaf_Desc(self,cur=None,):\n",
    "        \"\"\"Cau c\"\"\"\n",
    "        # gán cur = root\n",
    "        if cur==None:\n",
    "            cur=self.root\n",
    "        # nếu nốt phải null => chuyển qua nốt đó\n",
    "        if cur.right!=None:\n",
    "            self.print_leaf_Desc(cur.right)\n",
    "        # nếu không còn nốt nào bên phải => print vị trí đó\n",
    "        print(cur.val)\n",
    "        # nếu có nốt trái có di chuyển qua nốt đó\n",
    "        if cur.left!=None:\n",
    "            self.print_leaf_Desc(cur.left)\n",
    "    def is_Binary_search_tree(self,cur=None):\n",
    "        \"\"\"Cau d\"\"\"\n",
    "        if cur==None:\n",
    "            cur=self.root\n",
    "        # cho so vo cung lon va vo cung nho trong val_left va val_right\n",
    "        val_left= -sys.maxsize\n",
    "        val_right= sys.maxsize\n",
    "        # cho flag =true (dung truoc)\n",
    "        flag=True\n",
    "        # neu node phai van con => duyet ben phai\n",
    "        if cur.right!=None:\n",
    "            self.is_Binary_search_tree(cur.right)\n",
    "        # neu node trai van con => duyet ben trai    \n",
    "        if cur.left!=None:\n",
    "            self.is_Binary_search_tree(cur.left)\n",
    "        # so sanh 3 gia tri cua node trai<giua<phai    \n",
    "        if cur.left!=None:\n",
    "            val_left=cur.left.val\n",
    "        if cur.right!=None:\n",
    "            val_right=cur.right.val\n",
    "        if (cur.val>val_left) and (cur.val<val_right):\n",
    "            None\n",
    "        else: flag=False\n",
    "        return flag\n",
    "        \n",
    "\n",
    "            \n",
    "            \n",
    "        \n",
    "new_tree=tree()\n",
    "new_tree.add(10)\n",
    "new_tree.add(20)\n",
    "new_tree.add(15)\n",
    "# new_tree.print_Desc_recursion()\n",
    "# new_tree.print_Desc_unrecursion()\n",
    "new_tree.print_leaf_Desc()\n",
    "new_tree.is_Binary_search_tree()"
   ]
  },
  {
   "cell_type": "markdown",
   "metadata": {},
   "source": [
    "Giai thua\n"
   ]
  }
 ],
 "metadata": {
  "kernelspec": {
   "display_name": "Python 3.10.4 64-bit",
   "language": "python",
   "name": "python3"
  },
  "language_info": {
   "codemirror_mode": {
    "name": "ipython",
    "version": 3
   },
   "file_extension": ".py",
   "mimetype": "text/x-python",
   "name": "python",
   "nbconvert_exporter": "python",
   "pygments_lexer": "ipython3",
   "version": "3.10.4"
  },
  "orig_nbformat": 4,
  "vscode": {
   "interpreter": {
    "hash": "916dbcbb3f70747c44a77c7bcd40155683ae19c65e1c03b4aa3499c5328201f1"
   }
  }
 },
 "nbformat": 4,
 "nbformat_minor": 2
}
