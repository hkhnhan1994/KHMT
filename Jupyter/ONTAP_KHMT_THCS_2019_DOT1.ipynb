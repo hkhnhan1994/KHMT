{
 "cells": [
  {
   "cell_type": "markdown",
   "metadata": {},
   "source": [
    "Câu 1:\n",
    "viết hàm nhập vào 1 số nguyên, trả về giá trị nghịch đảo của số nguyên đó"
   ]
  },
  {
   "cell_type": "code",
   "execution_count": 25,
   "metadata": {},
   "outputs": [
    {
     "name": "stdout",
     "output_type": "stream",
     "text": [
      "253\n"
     ]
    }
   ],
   "source": [
    "print(1253%1000)"
   ]
  },
  {
   "cell_type": "code",
   "execution_count": 26,
   "metadata": {},
   "outputs": [
    {
     "ename": "OverflowError",
     "evalue": "int too large to convert to float",
     "output_type": "error",
     "traceback": [
      "\u001b[0;31m---------------------------------------------------------------------------\u001b[0m",
      "\u001b[0;31mOverflowError\u001b[0m                             Traceback (most recent call last)",
      "\u001b[1;32m/Users/hkhnhan/Code/SDH_tinhoccoso/KHMT/ONTAP_KHMT_THCS_2019_DOT1.ipynb Cell 3\u001b[0m in \u001b[0;36m<cell line: 12>\u001b[0;34m()\u001b[0m\n\u001b[1;32m     <a href='vscode-notebook-cell:/Users/hkhnhan/Code/SDH_tinhoccoso/KHMT/ONTAP_KHMT_THCS_2019_DOT1.ipynb#W2sZmlsZQ%3D%3D?line=9'>10</a>\u001b[0m             pre\u001b[39m=\u001b[39mpre\u001b[39m+\u001b[39mcur\n\u001b[1;32m     <a href='vscode-notebook-cell:/Users/hkhnhan/Code/SDH_tinhoccoso/KHMT/ONTAP_KHMT_THCS_2019_DOT1.ipynb#W2sZmlsZQ%3D%3D?line=10'>11</a>\u001b[0m         mod_i\u001b[39m=\u001b[39mmod_i\u001b[39m*\u001b[39m\u001b[39m10\u001b[39m\n\u001b[0;32m---> <a href='vscode-notebook-cell:/Users/hkhnhan/Code/SDH_tinhoccoso/KHMT/ONTAP_KHMT_THCS_2019_DOT1.ipynb#W2sZmlsZQ%3D%3D?line=11'>12</a>\u001b[0m a\u001b[39m=\u001b[39mnghichdao(\u001b[39m123\u001b[39;49m)\n",
      "\u001b[1;32m/Users/hkhnhan/Code/SDH_tinhoccoso/KHMT/ONTAP_KHMT_THCS_2019_DOT1.ipynb Cell 3\u001b[0m in \u001b[0;36mnghichdao\u001b[0;34m(soK)\u001b[0m\n\u001b[1;32m      <a href='vscode-notebook-cell:/Users/hkhnhan/Code/SDH_tinhoccoso/KHMT/ONTAP_KHMT_THCS_2019_DOT1.ipynb#W2sZmlsZQ%3D%3D?line=3'>4</a>\u001b[0m mod_i\u001b[39m=\u001b[39m\u001b[39m10\u001b[39m\n\u001b[1;32m      <a href='vscode-notebook-cell:/Users/hkhnhan/Code/SDH_tinhoccoso/KHMT/ONTAP_KHMT_THCS_2019_DOT1.ipynb#W2sZmlsZQ%3D%3D?line=4'>5</a>\u001b[0m \u001b[39mwhile\u001b[39;00m \u001b[39m1\u001b[39m:\n\u001b[0;32m----> <a href='vscode-notebook-cell:/Users/hkhnhan/Code/SDH_tinhoccoso/KHMT/ONTAP_KHMT_THCS_2019_DOT1.ipynb#W2sZmlsZQ%3D%3D?line=5'>6</a>\u001b[0m     cur\u001b[39m=\u001b[39m(soK\u001b[39m%\u001b[39;49m(mod_i)\u001b[39m-\u001b[39;49mpre)\u001b[39m/\u001b[39;49mmod_i\n\u001b[1;32m      <a href='vscode-notebook-cell:/Users/hkhnhan/Code/SDH_tinhoccoso/KHMT/ONTAP_KHMT_THCS_2019_DOT1.ipynb#W2sZmlsZQ%3D%3D?line=6'>7</a>\u001b[0m     \u001b[39mif\u001b[39;00m pre\u001b[39m==\u001b[39mcur:\n\u001b[1;32m      <a href='vscode-notebook-cell:/Users/hkhnhan/Code/SDH_tinhoccoso/KHMT/ONTAP_KHMT_THCS_2019_DOT1.ipynb#W2sZmlsZQ%3D%3D?line=7'>8</a>\u001b[0m         \u001b[39mbreak\u001b[39;00m\n",
      "\u001b[0;31mOverflowError\u001b[0m: int too large to convert to float"
     ]
    }
   ],
   "source": [
    "def nghichdao(soK:int):\n",
    "    pre=0\n",
    "    cur=-1\n",
    "    mod_i=10\n",
    "    while 1:\n",
    "        cur=(soK%(mod_i)-pre)/mod_i\n",
    "        if pre==cur:\n",
    "            break\n",
    "        else:\n",
    "            pre=pre+cur\n",
    "        mod_i=mod_i*10\n",
    "a=nghichdao(123)"
   ]
  }
 ],
 "metadata": {
  "kernelspec": {
   "display_name": "Python 3.10.2 ('dev_env')",
   "language": "python",
   "name": "python3"
  },
  "language_info": {
   "codemirror_mode": {
    "name": "ipython",
    "version": 3
   },
   "file_extension": ".py",
   "mimetype": "text/x-python",
   "name": "python",
   "nbconvert_exporter": "python",
   "pygments_lexer": "ipython3",
   "version": "3.10.2"
  },
  "orig_nbformat": 4,
  "vscode": {
   "interpreter": {
    "hash": "37c9d5d1ae81eed597f016bbf9768aed894ecb58803fc406fa1215b0f1fdc30a"
   }
  }
 },
 "nbformat": 4,
 "nbformat_minor": 2
}
