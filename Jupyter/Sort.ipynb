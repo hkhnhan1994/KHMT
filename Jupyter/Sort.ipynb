{
 "cells": [
  {
   "cell_type": "markdown",
   "metadata": {},
   "source": [
    " Selection sort\n",
    "```Python:\n",
    "#define variables\n",
    "shorted_partition=0\n",
    "current_minimum=0\n",
    "````\n",
    "travel consequently the array\n",
    "\n",
    "Find the smallest element\n",
    "\n",
    "store it into the shorted partition \n"
   ]
  },
  {
   "cell_type": "code",
   "execution_count": 16,
   "metadata": {},
   "outputs": [
    {
     "name": "stdout",
     "output_type": "stream",
     "text": [
      "[1, 2, 2, 3, 4, 5, 6, 10]\n"
     ]
    }
   ],
   "source": [
    "\"\"\"Selection sort\"\"\"\n",
    "# def selectionSort(array:list):\n",
    "#     c_min=0 # current minimum\n",
    "#     for sp in range(0, len(array)-1): #shorted partition\n",
    "#         c_min=sp\n",
    "#         for cur in range(0, len(array)-1):\n",
    "#             if cur+sp<len(array):\n",
    "#                 if array[cur+sp]<array[c_min]:\n",
    "#                     c_min=cur+sp\n",
    "#         temp=array[sp]\n",
    "#         array[sp]=array[c_min]\n",
    "#         array[c_min]=temp\n",
    "#     return array\n",
    "\n",
    "# new_array=[1,3,5,12,2]\n",
    "# selectionSort(array=new_array)\n",
    "# print(new_array)\n",
    "def selection_sort(array,result:list=[]):\n",
    "    if len(array)<=1:\n",
    "        result.append(array.pop())\n",
    "        return\n",
    "    else:\n",
    "        Max=9999999999\n",
    "        spot=-1\n",
    "        for e in range(0,len(array)):\n",
    "            if array[e]<Max:\n",
    "                Max=array[e]\n",
    "                spot=e\n",
    "        if spot !=-1:\n",
    "            array.pop(spot)\n",
    "            result.append(Max)\n",
    "            selection_sort(array,result)\n",
    "    return result\n",
    "array=[1,5,2,6,4,3,2,10]\n",
    "print(selection_sort(array))\n"
   ]
  },
  {
   "cell_type": "code",
   "execution_count": 14,
   "metadata": {},
   "outputs": [
    {
     "name": "stdout",
     "output_type": "stream",
     "text": [
      "[1, 2, 4, 5, 8]\n"
     ]
    }
   ],
   "source": [
    "def selectionShort(array: list, shorted_array=[]):\n",
    "    if len(array)<=1:\n",
    "        shorted_array.append(array.pop())\n",
    "        return\n",
    "    else:\n",
    "        p_min=0\n",
    "        for i in range(0, len(array)):\n",
    "            if array[p_min]>array[i]:\n",
    "                p_min=i\n",
    "        shorted_array.append(array.pop(p_min))\n",
    "        selectionShort(array ,shorted_array)\n",
    "        return shorted_array\n",
    "\n",
    "new_array=[1,5,2,8,4]\n",
    "print(selectionShort(new_array))"
   ]
  },
  {
   "cell_type": "markdown",
   "metadata": {},
   "source": [
    "##### Quick sort\n",
    "select a element call it as pivot\n",
    "usually select at begin, end, or middle of array\n",
    "create 2 pointers:L, R\n",
    "start from R\n",
    "if R < Pivot : shift it to L\n",
    " L+1\n",
    "if R> Pivot: R+1\n",
    "\n",
    "if L>Pivot: shift it to R\n",
    " R+1\n",
    "if L<Pivot: shift it to L\n"
   ]
  },
  {
   "cell_type": "code",
   "execution_count": 27,
   "metadata": {},
   "outputs": [
    {
     "name": "stdout",
     "output_type": "stream",
     "text": [
      "[1, 4, 6, 8, 9]\n"
     ]
    }
   ],
   "source": [
    "def Quickshort(array:list):\n",
    "    if len(array)<=1 :\n",
    "        return array\n",
    "    else:\n",
    "        left=[]\n",
    "        right=[]\n",
    "        pivot=array.pop(0)\n",
    "        for e in array:\n",
    "            if e<pivot:\n",
    "                left.append(e)\n",
    "            else:\n",
    "                right.append(e)\n",
    "\n",
    "        return Quickshort(left)+[pivot]+Quickshort(right)\n",
    "\n",
    "new_array=[4,9,8, 1, 6]\n",
    "print(Quickshort(new_array))"
   ]
  },
  {
   "cell_type": "code",
   "execution_count": 32,
   "metadata": {},
   "outputs": [
    {
     "name": "stdout",
     "output_type": "stream",
     "text": [
      "[1, 2, 4, 5, 6]\n"
     ]
    }
   ],
   "source": [
    "def bubble_sort(array,sorted=[]):\n",
    "    if len(array)<=1:\n",
    "        sorted.append(array.pop())\n",
    "        return\n",
    "    else:\n",
    "        for i in range(1,len(array)):\n",
    "            if array[i-1]<array[i]:\n",
    "                array[i-1],array[i]=array[i],array[i-1]\n",
    "        sorted.append(array.pop())\n",
    "        bubble_sort(array,sorted)\n",
    "    return sorted\n",
    "new_array=[5,2,6,4,1]\n",
    "print(bubble_sort(new_array))"
   ]
  },
  {
   "cell_type": "code",
   "execution_count": 13,
   "metadata": {},
   "outputs": [
    {
     "name": "stdout",
     "output_type": "stream",
     "text": [
      "[6, 5, 4, 2, 1]\n"
     ]
    }
   ],
   "source": [
    "\"\"\"Min heap.\"\"\"\n",
    "def min_heapify(array, root=None, sorted=[]):\n",
    "    if len(array)<1:\n",
    "        return\n",
    "    else:\n",
    "        # select root from middle of array\n",
    "        if root==None:\n",
    "            root=len(array)//2 -1\n",
    "        #if root<0 , get sorted element and travel to next leaf node\n",
    "        if root<0:\n",
    "            sorted.append(array.pop(0))\n",
    "            min_heapify(array,root+1,sorted)\n",
    "        #if root!=0. compare root with 2 leafs of itself, if root is smaller=> swap with biggest leaf in 2 leafs\n",
    "        else:\n",
    "            leafA=root*2+1 if root*2+1<len(array) else None\n",
    "            leafB=root*2+2 if root*2+2<len(array) else None\n",
    "            if leafA !=None and leafB !=None:\n",
    "                i_leaf=leafA if array[leafA]>array[leafB] else leafB\n",
    "                if array[root]<array[i_leaf]:\n",
    "                    array[root],array[i_leaf]=array[i_leaf],array[root]\n",
    "                \n",
    "            elif leafA!= None:\n",
    "                if array[root]<array[leafA]:\n",
    "                    array[root],array[leafA]=array[leafA],array[root]\n",
    "            elif leafB != None:\n",
    "                if array[root]<array[leafB]:\n",
    "                    array[root],array[leafB]=array[leafB],array[root]\n",
    "            else:\n",
    "                sorted.append(array.pop(0))\n",
    "                return\n",
    "            #travel back to root\n",
    "            min_heapify(array,root-1,sorted)\n",
    "    return sorted        \n",
    "\n",
    "new_array=[5,2,6,4,1]\n",
    "print(min_heapify(new_array))"
   ]
  },
  {
   "cell_type": "code",
   "execution_count": 17,
   "metadata": {},
   "outputs": [
    {
     "name": "stdout",
     "output_type": "stream",
     "text": [
      "Sorted array is: \n",
      "1 5 6 9 10 12 \n"
     ]
    }
   ],
   "source": [
    "# MergeSort in Python\n",
    "\n",
    "\n",
    "def mergeSort(array):\n",
    "    if len(array) > 1:\n",
    "\n",
    "        #  r is the point where the array is divided into two subarrays\n",
    "        r = len(array)//2\n",
    "        L = array[:r]\n",
    "        M = array[r:]\n",
    "\n",
    "        # Sort the two halves\n",
    "        mergeSort(L)\n",
    "        mergeSort(M)\n",
    "\n",
    "        i = j = k = 0\n",
    "\n",
    "        # Until we reach either end of either L or M, pick larger among\n",
    "        # elements L and M and place them in the correct position at A[p..r]\n",
    "        while i < len(L) and j < len(M):\n",
    "            if L[i] < M[j]:\n",
    "                array[k] = L[i]\n",
    "                i += 1\n",
    "            else:\n",
    "                array[k] = M[j]\n",
    "                j += 1\n",
    "            k += 1\n",
    "\n",
    "        # When we run out of elements in either L or M,\n",
    "        # pick up the remaining elements and put in A[p..r]\n",
    "        while i < len(L):\n",
    "            array[k] = L[i]\n",
    "            i += 1\n",
    "            k += 1\n",
    "\n",
    "        while j < len(M):\n",
    "            array[k] = M[j]\n",
    "            j += 1\n",
    "            k += 1\n",
    "\n",
    "\n",
    "# Print the array\n",
    "def printList(array):\n",
    "    for i in range(len(array)):\n",
    "        print(array[i], end=\" \")\n",
    "    print()\n",
    "\n",
    "\n",
    "# Driver program\n",
    "if __name__ == '__main__':\n",
    "    array = [6, 5, 12, 10, 9, 1]\n",
    "\n",
    "    mergeSort(array)\n",
    "\n",
    "    print(\"Sorted array is: \")\n",
    "    printList(array)"
   ]
  },
  {
   "cell_type": "code",
   "execution_count": 2,
   "metadata": {},
   "outputs": [
    {
     "data": {
      "text/plain": [
       "[1, 2, 2, 3, 3, 4, 5, 6, 8, 9]"
      ]
     },
     "execution_count": 2,
     "metadata": {},
     "output_type": "execute_result"
    }
   ],
   "source": [
    "A=[1,2,3,4,5,6]\n",
    "B=[2,3,6,8,9,10]\n",
    "\n",
    "def Merge_and_sort(arA,arB):\n",
    "    i_A=i_B=0\n",
    "    flag_A=True\n",
    "    sorted=[]\n",
    "    while(1):\n",
    "        if i_A>=len(arA)-1 and i_B>=len(arB)-1:\n",
    "            return sorted\n",
    "        if arA[i_A]<arB[i_B]:\n",
    "            \n",
    "            if i_A<len(arA)-1:\n",
    "                sorted.append(arA[i_A])\n",
    "                i_A+=1\n",
    "        elif arA[i_B]<arB[i_A]:\n",
    "            \n",
    "            if i_B<len(arB)-1:\n",
    "                sorted.append(arB[i_B])\n",
    "                i_B+=1\n",
    "        if i_A>=len(arA)-1 and i_B<len(arB)-1:\n",
    "            sorted.append(arB[i_B])\n",
    "            i_B+=1\n",
    "        if i_B>=len(arB)-1 and i_A<len(arA)-1:\n",
    "            sorted.append(arA[i_A])\n",
    "            i_A+=1\n",
    "        \n",
    "Merge_and_sort(A,B)\n",
    "\n"
   ]
  },
  {
   "cell_type": "code",
   "execution_count": 6,
   "metadata": {},
   "outputs": [],
   "source": [
    "\"\"\"Merge sort.\"\"\"\n",
    "def compare(index, ar,flag,result):\n",
    "    if index<len(ar):\n",
    "                if index>=len(ar):\n",
    "                    flag=True # left array has done\n",
    "                if not flag:\n",
    "                    result.append(ar[index])\n",
    "                    index+=1\n",
    "    return index,flag,result\n",
    "def Merge(left,right):\n",
    "    i_l=i_r=0\n",
    "    f_L=True\n",
    "    f_L_done=f_R_done=False\n",
    "    sorted=[]\n",
    "    while(1):\n",
    "        if not f_L_done:\n",
    "            if f_L:\n",
    "                if left[i_l]<right[i_r]:\n",
    "                    sorted.append(left[i_l])\n",
    "                    i_l+=1\n",
    "                    if i_l>=len(left):\n",
    "                        f_L_done=True\n",
    "                        f_L=False\n",
    "                        i_l-=1\n",
    "                else:\n",
    "                    sorted.append(right[i_r])\n",
    "                    i_r+=1\n",
    "                    if i_r>=len(right):\n",
    "                        f_R_done=True\n",
    "                        f_L=False\n",
    "                        i_r-=1\n",
    "        if not f_R_done:\n",
    "            if not f_L:\n",
    "                if left[i_l]>right[i_r]:\n",
    "                    sorted.append(right[i_l])\n",
    "                    i_r+=1\n",
    "                    if i_r>=len(right):\n",
    "                        f_R_done=True\n",
    "                        f_L=True\n",
    "                        i_r-=1\n",
    "                else:\n",
    "                    sorted.append(left[i_l])\n",
    "                    i_l+=1\n",
    "                    if i_l>=len(left):\n",
    "                        f_L_done=True\n",
    "                        f_L=True\n",
    "                        i_l-=1\n",
    "        if f_R_done and f_L_done:\n",
    "            return sorted\n",
    "\n",
    "def Merge_sort(array,left=[],right=[]):\n",
    "    if len(array)>1:\n",
    "        middle=len(array)//2\n",
    "        left=array[:middle]\n",
    "        right=array[middle:]\n",
    "        Merge_sort(left)\n",
    "        Merge_sort(right)\n",
    "        Merge(left,right)\n",
    "\n",
    "array = [6, 5, 12, 10, 9, 1]\n",
    "print(Merge_sort(array))\n",
    "    "
   ]
  }
 ],
 "metadata": {
  "kernelspec": {
   "display_name": "Python 3.9.14 ('dev_env')",
   "language": "python",
   "name": "python3"
  },
  "language_info": {
   "codemirror_mode": {
    "name": "ipython",
    "version": 3
   },
   "file_extension": ".py",
   "mimetype": "text/x-python",
   "name": "python",
   "nbconvert_exporter": "python",
   "pygments_lexer": "ipython3",
   "version": "3.9.14"
  },
  "orig_nbformat": 4,
  "vscode": {
   "interpreter": {
    "hash": "9b9781cef8991ac7a158367c1a51a2ed2c3a4b0e5dc99321456dbabab2a5ade9"
   }
  }
 },
 "nbformat": 4,
 "nbformat_minor": 2
}
