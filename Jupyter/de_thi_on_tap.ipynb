{
 "cells": [
  {
   "cell_type": "markdown",
   "metadata": {},
   "source": [
    "Viết hàm int getLength(const char* s) tính chiều dài của chuỗi s."
   ]
  },
  {
   "cell_type": "code",
   "execution_count": null,
   "metadata": {},
   "outputs": [],
   "source": [
    "def getlength(chuoi:str):\n",
    "    length=0\n",
    "    for x in chuoi:\n",
    "        length+=1\n",
    "    print (length)\n",
    "    return length\n",
    "\n",
    "chuoix=\"hello\"\n",
    "getlength(chuoix)"
   ]
  },
  {
   "cell_type": "markdown",
   "metadata": {},
   "source": [
    "Viết hàm int countLower(const char* s) đếm số lượng ký tự viết thường trong chuỗi s."
   ]
  },
  {
   "cell_type": "code",
   "execution_count": 1,
   "metadata": {},
   "outputs": [
    {
     "name": "stdout",
     "output_type": "stream",
     "text": [
      "7\n"
     ]
    }
   ],
   "source": [
    "def countLower(chuoi:str):\n",
    "    lowercount=0\n",
    "    for x in chuoi:\n",
    "        for lower in range(ord(\"a\"),ord('z')):\n",
    "            if ord(x) ==lower:\n",
    "                lowercount+=1\n",
    "    return lowercount\n",
    "chuoix=\"HellOoo00ooOO\"\n",
    "print(countLower(chuoix))"
   ]
  },
  {
   "cell_type": "markdown",
   "metadata": {},
   "source": [
    "Viết hàm int countMatches(const char* s, const char* p) đếm số lần xuất hiện của chuỗi con p (pattern) trong chuỗi s. \n",
    "Không đếm sự trùng khớp bị chồng chéo nhau, ví dụ: s=abcbcbc, p=bcbc, số lần trùng khớp: 1."
   ]
  },
  {
   "cell_type": "code",
   "execution_count": null,
   "metadata": {},
   "outputs": [],
   "source": [
    "def countMatches(chuoi_cha: str,chuoi_con:str):\n",
    "    list_cha=[i for i in chuoi_cha]\n",
    "    list_con=[i for i in chuoi_con]\n",
    "    dem=0\n",
    "    flag=0\n",
    "    for p in range(1, len(list_cha)-len(list_con)):\n",
    "        if list_con[0]==list_cha[p]:\n",
    "            for c in range(1, len(chuoi_con)):\n",
    "                if list_con[c]!=chuoi_cha[p+c]:\n",
    "                    flag=1 # khac chuoi con\n",
    "                    break\n",
    "            if flag==0:\n",
    "                dem+=1\n",
    "                p+=len(chuoi_con)\n",
    "        flag=0\n",
    "    return dem\n",
    "\n",
    "chuoicha=\"abcbcbc\"\n",
    "chuoicon=\"bcbc\"\n",
    "print\n",
    "print(countMatches(chuoicha,chuoicon))\n"
   ]
  },
  {
   "cell_type": "markdown",
   "metadata": {},
   "source": [
    "Danh sách liên kết:"
   ]
  },
  {
   "cell_type": "code",
   "execution_count": null,
   "metadata": {},
   "outputs": [],
   "source": [
    "class node:\n",
    "    def __init__(self,val):\n",
    "        self.val=val\n",
    "        self.next_node=None\n",
    "class linked_list:\n",
    "    def __init__(self,val) -> None:\n",
    "        self.head=node(val)\n",
    "        self.cur=self.head\n",
    "    def printlist(self):\n",
    "        cur=self.head\n",
    "        while cur is not None:\n",
    "            print (cur.val)\n",
    "            cur=cur.next_node\n",
    "    def add_val(self,val):\n",
    "        new_node=node(val)\n",
    "        self.cur.next_node=new_node\n",
    "        self.cur=self.cur.next_node\n",
    "\n",
    "\n",
    "newlist=linked_list(\"a\")\n",
    "newlist.add_val(\"he\")\n",
    "newlist.add_val(\"llo\")\n",
    "newlist.printlist()"
   ]
  },
  {
   "cell_type": "markdown",
   "metadata": {},
   "source": [
    "Cây nhị phân"
   ]
  },
  {
   "cell_type": "code",
   "execution_count": 3,
   "metadata": {},
   "outputs": [],
   "source": [
    "class node:\n",
    "    def __init__(self,val: int=None) -> None:\n",
    "        self.val=val\n",
    "        self.left=None\n",
    "        self.right=None\n",
    "class tree:\n",
    "    def __init__(self,val) -> None:\n",
    "        self.root=node(val)\n",
    "        self.cur=node(val)\n",
    "    def add(self,val):\n",
    "        if self.cur.val>val:\n",
    "            if self.cur.left is None:\n",
    "                self.cur.left=node(val)\n",
    "                self.cur=self.root\n",
    "            else: \n",
    "                self.cur=self.cur.left\n",
    "                return self.add(val)\n",
    "        elif self.cur.val<val:\n",
    "            if  self.cur.right is None:\n",
    "                self.cur.right=node(val)\n",
    "                self.cur=self.root\n",
    "            else:\n",
    "                self.cur=self.cur.right\n",
    "                return self.add(val)\n",
    "        else: return\n",
    "    def print_tree(self):\n",
    "        pass\n",
    "new_tree=tree(1)\n",
    "new_tree.add(3)\n",
    "new_tree.add(5)\n",
    "new_tree.add(2)\n",
    "new_tree.add(7)\n"
   ]
  },
  {
   "cell_type": "markdown",
   "metadata": {},
   "source": [
    "Chiều cao cây nhị phân"
   ]
  },
  {
   "cell_type": "code",
   "execution_count": null,
   "metadata": {},
   "outputs": [],
   "source": []
  }
 ],
 "metadata": {
  "kernelspec": {
   "display_name": "Python 3.10.6 64-bit",
   "language": "python",
   "name": "python3"
  },
  "language_info": {
   "codemirror_mode": {
    "name": "ipython",
    "version": 3
   },
   "file_extension": ".py",
   "mimetype": "text/x-python",
   "name": "python",
   "nbconvert_exporter": "python",
   "pygments_lexer": "ipython3",
   "version": "3.10.6"
  },
  "orig_nbformat": 4,
  "vscode": {
   "interpreter": {
    "hash": "b0fa6594d8f4cbf19f97940f81e996739fb7646882a419484c72d19e05852a7e"
   }
  }
 },
 "nbformat": 4,
 "nbformat_minor": 2
}
