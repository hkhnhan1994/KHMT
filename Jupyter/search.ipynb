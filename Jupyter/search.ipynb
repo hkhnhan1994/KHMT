{
 "cells": [
  {
   "cell_type": "code",
   "execution_count": 52,
   "metadata": {},
   "outputs": [
    {
     "name": "stdout",
     "output_type": "stream",
     "text": [
      "-1\n"
     ]
    }
   ],
   "source": [
    "def binarySearch(array,X):\n",
    "    flag=False\n",
    "    if len(array)<=1:\n",
    "        return\n",
    "    else:\n",
    "        middle=len(array)//2\n",
    "        if array[middle]>X:\n",
    "            found=binarySearch(array[:middle],X)\n",
    "        elif array[middle]<X:\n",
    "            found=binarySearch(array[middle:],X) \n",
    "        else:\n",
    "            return X\n",
    "    if found: \n",
    "        return found\n",
    "    else: return -1\n",
    "\n",
    "new_array=[1,2,3,4,5,6,7,8,9,10]\n",
    "print(binarySearch(new_array,11))"
   ]
  }
 ],
 "metadata": {
  "kernelspec": {
   "display_name": "Python 3.9.14 ('dev_env': venv)",
   "language": "python",
   "name": "python3"
  },
  "language_info": {
   "codemirror_mode": {
    "name": "ipython",
    "version": 3
   },
   "file_extension": ".py",
   "mimetype": "text/x-python",
   "name": "python",
   "nbconvert_exporter": "python",
   "pygments_lexer": "ipython3",
   "version": "3.9.14"
  },
  "orig_nbformat": 4,
  "vscode": {
   "interpreter": {
    "hash": "deaea6af7912c34c1b684dec674de0c76750168016ab145b5e18463b9074328c"
   }
  }
 },
 "nbformat": 4,
 "nbformat_minor": 2
}
