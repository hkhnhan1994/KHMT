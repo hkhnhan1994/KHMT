{
 "cells": [
  {
   "cell_type": "markdown",
   "metadata": {},
   "source": [
    " Selection sort\n",
    "```Python:\n",
    "#define variables\n",
    "shorted_partition=0\n",
    "current_minimum=0\n",
    "````\n",
    "travel consequently the array\n",
    "\n",
    "Find the smallest element\n",
    "\n",
    "store it into the shorted partition \n"
   ]
  },
  {
   "cell_type": "code",
   "execution_count": 16,
   "metadata": {},
   "outputs": [
    {
     "name": "stdout",
     "output_type": "stream",
     "text": [
      "[1, 2, 2, 3, 4, 5, 6, 10]\n"
     ]
    }
   ],
   "source": [
    "\"\"\"Selection sort\"\"\"\n",
    "# def selectionSort(array:list):\n",
    "#     c_min=0 # current minimum\n",
    "#     for sp in range(0, len(array)-1): #shorted partition\n",
    "#         c_min=sp\n",
    "#         for cur in range(0, len(array)-1):\n",
    "#             if cur+sp<len(array):\n",
    "#                 if array[cur+sp]<array[c_min]:\n",
    "#                     c_min=cur+sp\n",
    "#         temp=array[sp]\n",
    "#         array[sp]=array[c_min]\n",
    "#         array[c_min]=temp\n",
    "#     return array\n",
    "\n",
    "# new_array=[1,3,5,12,2]\n",
    "# selectionSort(array=new_array)\n",
    "# print(new_array)\n",
    "def selection_sort(array,result:list=[]):\n",
    "    if len(array)<=1:\n",
    "        result.append(array.pop())\n",
    "        return\n",
    "    else:\n",
    "        Max=9999999999\n",
    "        spot=-1\n",
    "        for e in range(0,len(array)):\n",
    "            if array[e]<Max:\n",
    "                Max=array[e]\n",
    "                spot=e\n",
    "        if spot !=-1:\n",
    "            array.pop(spot)\n",
    "            result.append(Max)\n",
    "            selection_sort(array,result)\n",
    "    return result\n",
    "array=[1,5,2,6,4,3,2,10]\n",
    "print(selection_sort(array))\n"
   ]
  },
  {
   "cell_type": "code",
   "execution_count": 14,
   "metadata": {},
   "outputs": [
    {
     "name": "stdout",
     "output_type": "stream",
     "text": [
      "[1, 2, 4, 5, 8]\n"
     ]
    }
   ],
   "source": [
    "def selectionShort(array: list, shorted_array=[]):\n",
    "    if len(array)<=1:\n",
    "        shorted_array.append(array.pop())\n",
    "        return\n",
    "    else:\n",
    "        p_min=0\n",
    "        for i in range(0, len(array)):\n",
    "            if array[p_min]>array[i]:\n",
    "                p_min=i\n",
    "        shorted_array.append(array.pop(p_min))\n",
    "        selectionShort(array ,shorted_array)\n",
    "        return shorted_array\n",
    "\n",
    "new_array=[1,5,2,8,4]\n",
    "print(selectionShort(new_array))"
   ]
  },
  {
   "cell_type": "markdown",
   "metadata": {},
   "source": [
    "##### Quick sort\n",
    "select a element call it as pivot\n",
    "usually select at begin, end, or middle of array\n",
    "create 2 pointers:L, R\n",
    "start from R\n",
    "if R < Pivot : shift it to L\n",
    " L+1\n",
    "if R> Pivot: R+1\n",
    "\n",
    "if L>Pivot: shift it to R\n",
    " R+1\n",
    "if L<Pivot: shift it to L\n"
   ]
  },
  {
   "cell_type": "code",
   "execution_count": 27,
   "metadata": {},
   "outputs": [
    {
     "name": "stdout",
     "output_type": "stream",
     "text": [
      "[1, 4, 6, 8, 9]\n"
     ]
    }
   ],
   "source": [
    "def Quickshort(array:list):\n",
    "    if len(array)<=1 :\n",
    "        return array\n",
    "    else:\n",
    "        left=[]\n",
    "        right=[]\n",
    "        pivot=array.pop(0)\n",
    "        for e in array:\n",
    "            if e<pivot:\n",
    "                left.append(e)\n",
    "            else:\n",
    "                right.append(e)\n",
    "\n",
    "        return Quickshort(left)+[pivot]+Quickshort(right)\n",
    "\n",
    "new_array=[4,9,8, 1, 6]\n",
    "print(Quickshort(new_array))"
   ]
  },
  {
   "cell_type": "code",
   "execution_count": 27,
   "metadata": {},
   "outputs": [
    {
     "name": "stdout",
     "output_type": "stream",
     "text": [
      "[6, 5, 4, 2, 1]\n"
     ]
    }
   ],
   "source": [
    "\"\"\"Heap short.\"\"\"\n",
    "def heapsort(array:list, travel=None, shorted_array=[]):\n",
    "    length=len(array)\n",
    "    if travel is None:\n",
    "        travel=length//2-1\n",
    "    elif travel <0:\n",
    "        return\n",
    "    if length<=1:\n",
    "        return\n",
    "    else:\n",
    "        _left=2*travel+1\n",
    "        _right=2*travel+2\n",
    "        if _left<=length-1 and _right<=length-1:\n",
    "            if array[_left]<array[_right]:\n",
    "                if array[_right]>array[travel]:\n",
    "                    array[travel], array[_right]=array[_right], array[travel]\n",
    "                    #travel back to previous parent\n",
    "                    heapsort(array,travel-1,shorted_array=shorted_array)\n",
    "            else:\n",
    "                if array[_left]>array[travel]:\n",
    "                    array[travel], array[_left]=array[_left], array[travel]\n",
    "                    #travel back to previous parent\n",
    "                    heapsort(array,travel-1,shorted_array=shorted_array)\n",
    "            #travel to next leaf\n",
    "            heapsort(array,travel+1,shorted_array=shorted_array)\n",
    "            #swap first and last element\n",
    "            array[0],array[-1]=array[-1],array[0]\n",
    "            #remove the last element(biggest element)\n",
    "            shorted_array.append(array.pop())\n",
    "            # travel from root\n",
    "            heapsort(array,travel=0,shorted_array=shorted_array)\n",
    "            return shorted_array\n",
    "        elif _left<=length-1:\n",
    "            if array[_left]>array[travel]:\n",
    "                    array[travel], array[_left]=array[_left], array[travel]\n",
    "        elif _right<=length-1:\n",
    "            if array[_right]>array[travel]:\n",
    "                    array[travel], array[_right]=array[_right], array[travel]\n",
    "        else:\n",
    "            return\n",
    "new_array=[5,2,6,4,1]\n",
    "print(heapsort(new_array))\n",
    "\n",
    "    \n",
    "\n"
   ]
  },
  {
   "cell_type": "code",
   "execution_count": 32,
   "metadata": {},
   "outputs": [
    {
     "name": "stdout",
     "output_type": "stream",
     "text": [
      "[1, 2, 4, 5, 6]\n"
     ]
    }
   ],
   "source": [
    "def bubble_sort(array,sorted=[]):\n",
    "    if len(array)<=1:\n",
    "        sorted.append(array.pop())\n",
    "        return\n",
    "    else:\n",
    "        for i in range(1,len(array)):\n",
    "            if array[i-1]<array[i]:\n",
    "                array[i-1],array[i]=array[i],array[i-1]\n",
    "        sorted.append(array.pop())\n",
    "        bubble_sort(array,sorted)\n",
    "    return sorted\n",
    "new_array=[5,2,6,4,1]\n",
    "print(bubble_sort(new_array))"
   ]
  },
  {
   "cell_type": "code",
   "execution_count": null,
   "metadata": {},
   "outputs": [],
   "source": []
  }
 ],
 "metadata": {
  "kernelspec": {
   "display_name": "Python 3.9.14 ('dev_env': venv)",
   "language": "python",
   "name": "python3"
  },
  "language_info": {
   "codemirror_mode": {
    "name": "ipython",
    "version": 3
   },
   "file_extension": ".py",
   "mimetype": "text/x-python",
   "name": "python",
   "nbconvert_exporter": "python",
   "pygments_lexer": "ipython3",
   "version": "3.9.14"
  },
  "orig_nbformat": 4,
  "vscode": {
   "interpreter": {
    "hash": "deaea6af7912c34c1b684dec674de0c76750168016ab145b5e18463b9074328c"
   }
  }
 },
 "nbformat": 4,
 "nbformat_minor": 2
}
