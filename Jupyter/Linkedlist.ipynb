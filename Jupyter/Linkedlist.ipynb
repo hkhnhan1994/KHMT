{
 "cells": [
  {
   "cell_type": "code",
   "execution_count": 6,
   "metadata": {},
   "outputs": [
    {
     "name": "stdout",
     "output_type": "stream",
     "text": [
      "1\n",
      "2\n",
      "3\n",
      "6\n",
      "4\n",
      "5\n"
     ]
    }
   ],
   "source": [
    "class node:\n",
    "    def __init__(self,val):\n",
    "        self.val=val\n",
    "        self.next=None\n",
    "class Linkedlist:\n",
    "    def __init__(self):\n",
    "        self.head=None\n",
    "    def Add_at_head(self,val):\n",
    "        if self.head==None:\n",
    "            self.head=node(val)\n",
    "        else:\n",
    "            new_node=node(val)\n",
    "            new_node.next=self.head\n",
    "            self.head=new_node\n",
    "    def Add_at_tail(self,val):\n",
    "        if self.head==None:\n",
    "            self.head=self.tail=node(val)\n",
    "        else:\n",
    "            new_node=node(val)\n",
    "            self.tail.next=new_node\n",
    "            self.tail=new_node\n",
    "    def Add_at_middle(self,pos,val,travel,pre=None):\n",
    "        if pos==self.head.val:\n",
    "            self.Add_at_head(val)\n",
    "        elif pos==self.tail.val:\n",
    "            self.Add_at_tail(val)\n",
    "        else:\n",
    "            if travel.val==pos:\n",
    "                new_node=node(val)\n",
    "                pre.next=new_node\n",
    "                new_node.next=travel\n",
    "            else:\n",
    "                self.Add_at_middle(pos,val,travel.next,travel)\n",
    "    def print_linkedlist(self,root):\n",
    "        if root==None:\n",
    "            return\n",
    "        else:\n",
    "            print(root.val)\n",
    "            self.print_linkedlist(root.next)\n",
    "\n",
    "new_list=Linkedlist()\n",
    "new_list.Add_at_tail(1)\n",
    "new_list.Add_at_tail(2)\n",
    "new_list.Add_at_tail(3)\n",
    "new_list.Add_at_middle(3,6,new_list.head)\n",
    "new_list.Add_at_tail(4)\n",
    "new_list.Add_at_tail(5)\n",
    "new_list.print_linkedlist(new_list.head)"
   ]
  },
  {
   "cell_type": "code",
   "execution_count": null,
   "metadata": {},
   "outputs": [],
   "source": [
    "class node:\n",
    "    def __init__(self,val):\n",
    "        self.val=val\n",
    "        self.pre=None\n",
    "        self.next=None\n",
    "class doubly_linkedlist:\n",
    "    def __init__(self):\n",
    "        self.head=None\n",
    "        self.tail=None\n",
    "    def Add_at_head(self,val):\n",
    "        if self.head==None:\n",
    "            self.head=node(val)\n",
    "        else:\n",
    "            new_node=node(val)\n",
    "            new_node.next=self.head\n",
    "            self.head.pre=new_node.next\n",
    "            self.head=new_node\n",
    "    def Add_at_tail(self,val):\n",
    "        if self.head==None:\n",
    "            self.head=self.tail=node(val)\n",
    "        else:\n",
    "            new_node=node(val)\n",
    "            self.tail.next=new_node\n",
    "            new_node.pre=self.tail.next\n",
    "            self.tail=new_node\n",
    "    \n"
   ]
  }
 ],
 "metadata": {
  "kernelspec": {
   "display_name": "Python 3.9.14 ('dev_env': venv)",
   "language": "python",
   "name": "python3"
  },
  "language_info": {
   "codemirror_mode": {
    "name": "ipython",
    "version": 3
   },
   "file_extension": ".py",
   "mimetype": "text/x-python",
   "name": "python",
   "nbconvert_exporter": "python",
   "pygments_lexer": "ipython3",
   "version": "3.9.14"
  },
  "orig_nbformat": 4,
  "vscode": {
   "interpreter": {
    "hash": "deaea6af7912c34c1b684dec674de0c76750168016ab145b5e18463b9074328c"
   }
  }
 },
 "nbformat": 4,
 "nbformat_minor": 2
}
