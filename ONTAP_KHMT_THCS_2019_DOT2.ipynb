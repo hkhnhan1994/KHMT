{
 "cells": [
  {
   "cell_type": "code",
   "execution_count": null,
   "metadata": {},
   "outputs": [],
   "source": []
  }
 ],
 "metadata": {
  "kernelspec": {
   "display_name": "Python 3.10.2 ('dev_env')",
   "language": "python",
   "name": "python3"
  },
  "language_info": {
   "name": "python",
   "version": "3.10.2"
  },
  "orig_nbformat": 4,
  "vscode": {
   "interpreter": {
    "hash": "37c9d5d1ae81eed597f016bbf9768aed894ecb58803fc406fa1215b0f1fdc30a"
   }
  }
 },
 "nbformat": 4,
 "nbformat_minor": 2
}
